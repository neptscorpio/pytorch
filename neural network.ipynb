{
 "cells": [
  {
   "cell_type": "code",
   "execution_count": 112,
   "metadata": {},
   "outputs": [],
   "source": [
    "from __future__ import print_function\n",
    "import torch\n",
    "import torch.nn as nn\n",
    "import torch.nn.functional as F\n",
    "import torch.optim as optim"
   ]
  },
  {
   "cell_type": "code",
   "execution_count": 37,
   "metadata": {},
   "outputs": [],
   "source": [
    "def show(t):  # tensor\n",
    "    print(\"size: \", t.size())\n",
    "    print(\"value: \", t)\n",
    "    print(\"requires_grad: \", t.requires_grad)\n",
    "    print(\"grad_fn: \", t.grad_fn)\n",
    "    print(\"grad: \", t.grad)"
   ]
  },
  {
   "cell_type": "markdown",
   "metadata": {},
   "source": [
    "# Define the Net class"
   ]
  },
  {
   "cell_type": "code",
   "execution_count": 15,
   "metadata": {},
   "outputs": [],
   "source": [
    "class Net(nn.Module):\n",
    "    def __init__(self):\n",
    "        super(Net, self).__init__()\n",
    "        ## Define operations in NN, weights initialized by default\n",
    "        # 1 input image channel, 6 output channels, 5x5 square convolution\n",
    "        self.conv1 = nn.Conv2d(1, 6, 5)  # conv1.weight and conv1.bias\n",
    "        # 6 input image channel, 16 output channels, 5x5 square convolution\n",
    "        self.conv2 = nn.Conv2d(6, 16, 5)\n",
    "        # an affine operation: y = Wx + b\n",
    "        self.fc1 = nn.Linear(16 * 5 * 5, 120) # input channels 16 * 5 * 5, output 120 channels\n",
    "        self.fc2 = nn.Linear(120, 84)\n",
    "        self.fc3 = nn.Linear(84, 10)"
   ]
  },
  {
   "cell_type": "code",
   "execution_count": 16,
   "metadata": {},
   "outputs": [],
   "source": [
    "def num_flat_features(self, x):\n",
    "    size = x.size()[1:]  # all dimensions except the batch dimension (the 1st dimension)\n",
    "    num_features = 1\n",
    "    for s in size:\n",
    "        num_features *= s\n",
    "    return num_features\n",
    "\n",
    "Net.num_flat_features = num_flat_features"
   ]
  },
  {
   "cell_type": "code",
   "execution_count": 17,
   "metadata": {},
   "outputs": [],
   "source": [
    "def forward(self, x):  # Should be overridden by all subclasses of nn.Module\n",
    "    x = F.max_pool2d(F.relu(self.conv1(x)), (2, 2)) # maxpooling\n",
    "    x = F.max_pool2d(F.relu(self.conv2(x)), 2)  # a simpler way of maxpooling\n",
    "    x = x.view(-1, self.num_flat_features(x))\n",
    "    x = F.relu(self.fc1(x))\n",
    "    x = F.relu(self.fc2(x))\n",
    "    x = self.fc3(x)\n",
    "    return x\n",
    "\n",
    "Net.forward = forward"
   ]
  },
  {
   "cell_type": "markdown",
   "metadata": {},
   "source": [
    "# Initialization"
   ]
  },
  {
   "cell_type": "code",
   "execution_count": 20,
   "metadata": {},
   "outputs": [
    {
     "name": "stdout",
     "output_type": "stream",
     "text": [
      "Net(\n",
      "  (conv1): Conv2d(1, 6, kernel_size=(5, 5), stride=(1, 1))\n",
      "  (conv2): Conv2d(6, 16, kernel_size=(5, 5), stride=(1, 1))\n",
      "  (fc1): Linear(in_features=400, out_features=120, bias=True)\n",
      "  (fc2): Linear(in_features=120, out_features=84, bias=True)\n",
      "  (fc3): Linear(in_features=84, out_features=10, bias=True)\n",
      ")\n"
     ]
    }
   ],
   "source": [
    "net = Net()\n",
    "print(net)"
   ]
  },
  {
   "cell_type": "code",
   "execution_count": 102,
   "metadata": {},
   "outputs": [
    {
     "name": "stdout",
     "output_type": "stream",
     "text": [
      "10\n",
      "torch.Size([6, 1, 5, 5])\n",
      "torch.Size([6])\n",
      "torch.Size([16, 6, 5, 5])\n",
      "torch.Size([16])\n",
      "torch.Size([120, 400])\n",
      "torch.Size([120])\n",
      "torch.Size([84, 120])\n",
      "torch.Size([84])\n",
      "torch.Size([10, 84])\n",
      "torch.Size([10])\n"
     ]
    }
   ],
   "source": [
    "params = list(net.parameters())\n",
    "print(len(params))\n",
    "for param in params:\n",
    "    print(param.size())"
   ]
  },
  {
   "cell_type": "markdown",
   "metadata": {},
   "source": [
    "# Forward Pass"
   ]
  },
  {
   "cell_type": "code",
   "execution_count": 126,
   "metadata": {},
   "outputs": [
    {
     "name": "stdout",
     "output_type": "stream",
     "text": [
      "size:  torch.Size([1, 10])\n",
      "value:  tensor([[-0.0867, -0.1328,  0.1416, -0.0613, -0.0225,  0.1128,  0.0141,\n",
      "          0.0759,  0.1292,  0.0332]])\n",
      "requires_grad:  True\n",
      "grad_fn:  <AddmmBackward object at 0x1089762e8>\n",
      "grad:  None\n"
     ]
    }
   ],
   "source": [
    "input = torch.randn(1, 1, 32, 32)\n",
    "out = net(input) # or, net.forward(input)\n",
    "show(out)"
   ]
  },
  {
   "cell_type": "code",
   "execution_count": 127,
   "metadata": {},
   "outputs": [
    {
     "name": "stdout",
     "output_type": "stream",
     "text": [
      "size:  torch.Size([])\n",
      "value:  tensor(0.6324)\n",
      "requires_grad:  True\n",
      "grad_fn:  <MseLossBackward object at 0x108976e10>\n",
      "grad:  None\n"
     ]
    }
   ],
   "source": [
    "target = torch.randn_like(out) # a dummy target\n",
    "criterion = nn.MSELoss()  # define a loss function\n",
    "loss = criterion(out, target)\n",
    "show(loss)"
   ]
  },
  {
   "cell_type": "code",
   "execution_count": 128,
   "metadata": {},
   "outputs": [
    {
     "name": "stdout",
     "output_type": "stream",
     "text": [
      "<MseLossBackward object at 0x1089a9a58>\n",
      "<AddmmBackward object at 0x1089a9358>\n",
      "<ExpandBackward object at 0x1089a9a58>\n"
     ]
    }
   ],
   "source": [
    "print(loss.grad_fn)  # MSELoss\n",
    "print(loss.grad_fn.next_functions[0][0])  # Linear\n",
    "print(loss.grad_fn.next_functions[0][0].next_functions[0][0])  # ReLU"
   ]
  },
  {
   "cell_type": "markdown",
   "metadata": {},
   "source": [
    "# A Single Step of Backward Prop"
   ]
  },
  {
   "cell_type": "code",
   "execution_count": 129,
   "metadata": {},
   "outputs": [
    {
     "name": "stdout",
     "output_type": "stream",
     "text": [
      "conv1.bias before backward\n",
      "size:  torch.Size([6])\n",
      "value:  Parameter containing:\n",
      "tensor([ 0.1054, -0.0448,  0.0781,  0.1496, -0.0436, -0.0908])\n",
      "requires_grad:  True\n",
      "grad_fn:  None\n",
      "grad:  tensor([ 0.,  0.,  0.,  0.,  0.,  0.])\n",
      "conv1.bias after backward\n",
      "\n",
      "size:  torch.Size([6])\n",
      "value:  Parameter containing:\n",
      "tensor([ 0.1054, -0.0448,  0.0781,  0.1496, -0.0436, -0.0908])\n",
      "requires_grad:  True\n",
      "grad_fn:  None\n",
      "grad:  tensor(1.00000e-02 *\n",
      "       [ 1.2413,  1.2971,  0.6463,  0.2419,  0.7958,  0.0103])\n"
     ]
    }
   ],
   "source": [
    "net.zero_grad()     # zeroes the gradient buffers of all parameters\n",
    "\n",
    "print('conv1.bias before backward')\n",
    "show(net.conv1.bias)\n",
    "\n",
    "loss.backward()  # compute grad of net.parameters\n",
    "\n",
    "print('conv1.bias after backward\\n')\n",
    "show(net.conv1.bias)"
   ]
  },
  {
   "cell_type": "markdown",
   "metadata": {},
   "source": [
    "# Loop: Update the Parameters by BP"
   ]
  },
  {
   "cell_type": "code",
   "execution_count": 130,
   "metadata": {},
   "outputs": [],
   "source": [
    "# create your optimizer\n",
    "optimizer = optim.SGD(net.parameters(), lr=0.01)\n",
    "\n",
    "for _ in range(3):  # in your training loop:\n",
    "    optimizer.zero_grad()   # zero the gradient buffers of all parameters\n",
    "    output = net(input)\n",
    "    loss = criterion(output, target)\n",
    "    loss.backward()     # compute grad of net.parameters   \n",
    "    optimizer.step()    # Does the update on weights/bias by their grad"
   ]
  },
  {
   "cell_type": "code",
   "execution_count": null,
   "metadata": {},
   "outputs": [],
   "source": []
  },
  {
   "cell_type": "code",
   "execution_count": null,
   "metadata": {},
   "outputs": [],
   "source": [
    "tor"
   ]
  }
 ],
 "metadata": {
  "kernelspec": {
   "display_name": "Python 3",
   "language": "python",
   "name": "python3"
  },
  "language_info": {
   "codemirror_mode": {
    "name": "ipython",
    "version": 3
   },
   "file_extension": ".py",
   "mimetype": "text/x-python",
   "name": "python",
   "nbconvert_exporter": "python",
   "pygments_lexer": "ipython3",
   "version": "3.6.4"
  }
 },
 "nbformat": 4,
 "nbformat_minor": 2
}
