{
 "cells": [
  {
   "cell_type": "code",
   "execution_count": 1,
   "metadata": {},
   "outputs": [],
   "source": [
    "import torch\n",
    "import torchvision\n",
    "import torch.nn as nn\n",
    "import numpy as np\n",
    "import itertools\n",
    "import matplotlib.pyplot as plt\n",
    "import math"
   ]
  },
  {
   "cell_type": "markdown",
   "metadata": {},
   "source": [
    "# Utils"
   ]
  },
  {
   "cell_type": "code",
   "execution_count": 2,
   "metadata": {},
   "outputs": [],
   "source": [
    "\"\"\"\n",
    "imgs:  tensor, b, c, h, w\n",
    "show nrow*nrow images at most\n",
    "\"\"\"\n",
    "def imshow(imgs, nrow=2):\n",
    "    # tile first nrow*nrow imgs\n",
    "    im = torchvision.utils.make_grid(imgs[0:nrow*nrow, :, :, :], nrow=nrow, \n",
    "                                     padding=2, pad_value=1.0)  # input: B,C,H,W  output: C=3, H1, W1\n",
    "    npimg = im.numpy() if not im.requires_grad else im.detach().numpy()  \n",
    "    plt.figure()\n",
    "    plt.imshow(np.transpose(npimg, (1, 2, 0)))  # chw -> hwc\n",
    "    plt.xticks([])\n",
    "    plt.yticks([])\n",
    "    plt.show()"
   ]
  },
  {
   "cell_type": "markdown",
   "metadata": {},
   "source": [
    "# Define AutoEncoder"
   ]
  },
  {
   "cell_type": "code",
   "execution_count": 3,
   "metadata": {},
   "outputs": [],
   "source": [
    "class AutoEncoder(nn.Module):\n",
    "    def __init__(self):\n",
    "        super().__init__()  # i.e., super(xxx, self).__init__()\n",
    "        \n",
    "        self.codes = None\n",
    "        \n",
    "        self.encoder = nn.Sequential(\n",
    "            # in_channels, out_channels, kernel_size, stride=1, padding=0, dilation=1, groups=1, bias=True\n",
    "            nn.Conv2d(1, 1, 3, stride=2, padding=1, bias=True), \n",
    "            nn.Conv2d(1, 1, 3, stride=2, padding=1, bias=True), \n",
    "        )\n",
    "        \n",
    "        self.decoder = nn.Sequential(\n",
    "            # k' = k\n",
    "            # s'= 1, d' = s （i.e., s' = 1/s）, \n",
    "            # p’ = k - p - 1\n",
    "            # a' is out_padding\n",
    "            # !!! Here, in ConvTranspose2d, stride, padding, dilation use the params from Conv2d !!!\n",
    "            nn.ConvTranspose2d(1, 1, 3, stride=2, padding=1, output_padding=1, bias=True),\n",
    "            nn.ConvTranspose2d(1, 1, 3, stride=2, padding=1, output_padding=1, bias=True),\n",
    "        )\n",
    "        \n",
    "        # init parameters\n",
    "        for m in itertools.chain(self.encoder.modules(), self.decoder.modules()):\n",
    "            if isinstance(m, (nn.Conv2d, nn.ConvTranspose2d)):\n",
    "                nn.init.xavier_uniform_(m.weight)   # limit = 1/sqrt(fan_in)\n",
    "                #nn.init.constant_(m.weight, 1./ (m.kernel_size[0] * m.kernel_size[1]) )\n",
    "            \n",
    "                \n",
    "    def forward(self, x):\n",
    "        self.codes = self.encoder(x)\n",
    "        return self.decoder(self.codes)"
   ]
  },
  {
   "cell_type": "markdown",
   "metadata": {},
   "source": [
    "# Input Data"
   ]
  },
  {
   "cell_type": "code",
   "execution_count": 4,
   "metadata": {},
   "outputs": [
    {
     "name": "stdout",
     "output_type": "stream",
     "text": [
      "torch.Size([4, 1, 28, 28])\n"
     ]
    },
    {
     "data": {
      "image/png": "[encoded data removed]",
      "text/plain": [
       "<Figure size 432x288 with 1 Axes>"
      ]
     },
     "metadata": {},
     "output_type": "display_data"
    }
   ],
   "source": [
    "batch = 4\n",
    "channel = 1\n",
    "dim_in = 28\n",
    "inputs = torch.rand(batch, channel, dim_in, dim_in)  # b, c, h, w\n",
    "print(inputs.size())\n",
    "imshow(inputs, nrow=4)"
   ]
  },
  {
   "cell_type": "markdown",
   "metadata": {},
   "source": [
    "# Training"
   ]
  },
  {
   "cell_type": "code",
   "execution_count": 5,
   "metadata": {},
   "outputs": [],
   "source": [
    "lr = 1e-3\n",
    "ae = AutoEncoder()\n",
    "solver = torch.optim.Adam(ae.parameters(), lr=lr)"
   ]
  },
  {
   "cell_type": "markdown",
   "metadata": {},
   "source": [
    "## pre-checking"
   ]
  },
  {
   "cell_type": "code",
   "execution_count": 6,
   "metadata": {},
   "outputs": [],
   "source": [
    "outs = ae(inputs)"
   ]
  },
  {
   "cell_type": "code",
   "execution_count": 7,
   "metadata": {},
   "outputs": [
    {
     "name": "stderr",
     "output_type": "stream",
     "text": [
      "Clipping input data to the valid range for imshow with RGB data ([0..1] for floats or [0..255] for integers).\n"
     ]
    },
    {
     "name": "stdout",
     "output_type": "stream",
     "text": [
      "torch.Size([4, 1, 7, 7])\n"
     ]
    },
    {
     "data": {
      "image/png": "[encoded data removed]",
      "text/plain": [
       "<Figure size 432x288 with 1 Axes>"
      ]
     },
     "metadata": {},
     "output_type": "display_data"
    }
   ],
   "source": [
    "print(ae.codes.size())\n",
    "imshow(ae.codes, nrow=4)"
   ]
  },
  {
   "cell_type": "code",
   "execution_count": 8,
   "metadata": {},
   "outputs": [
    {
     "name": "stderr",
     "output_type": "stream",
     "text": [
      "Clipping input data to the valid range for imshow with RGB data ([0..1] for floats or [0..255] for integers).\n"
     ]
    },
    {
     "name": "stdout",
     "output_type": "stream",
     "text": [
      "torch.Size([4, 1, 28, 28])\n"
     ]
    },
    {
     "data": {
      "image/png": "[encoded data removed]",
      "text/plain": [
       "<Figure size 432x288 with 1 Axes>"
      ]
     },
     "metadata": {},
     "output_type": "display_data"
    }
   ],
   "source": [
    "print(outs.size())\n",
    "imshow(outs)"
   ]
  },
  {
   "cell_type": "code",
   "execution_count": 9,
   "metadata": {},
   "outputs": [
    {
     "name": "stdout",
     "output_type": "stream",
     "text": [
      "tensor(0.2788, grad_fn=<MeanBackward0>)\n"
     ]
    }
   ],
   "source": [
    "loss = torch.functional.F.mse_loss(inputs, outs, reduction='mean')\n",
    "print(loss)"
   ]
  },
  {
   "cell_type": "markdown",
   "metadata": {},
   "source": [
    "## Training starts"
   ]
  },
  {
   "cell_type": "code",
   "execution_count": 10,
   "metadata": {},
   "outputs": [
    {
     "name": "stdout",
     "output_type": "stream",
     "text": [
      "epoch 0:  loss = 0.27875399589538574\n",
      "epoch 100:  loss = 0.16928556561470032\n",
      "epoch 200:  loss = 0.11804339289665222\n",
      "epoch 300:  loss = 0.09751390665769577\n",
      "epoch 400:  loss = 0.08946049958467484\n",
      "epoch 500:  loss = 0.08573973923921585\n",
      "epoch 600:  loss = 0.08389348536729813\n",
      "epoch 700:  loss = 0.08289645612239838\n",
      "epoch 800:  loss = 0.0822652280330658\n",
      "epoch 900:  loss = 0.08177146315574646\n",
      "epoch 1000:  loss = 0.08133890479803085\n",
      "epoch 1100:  loss = 0.0809718668460846\n",
      "epoch 1200:  loss = 0.08068478107452393\n",
      "epoch 1300:  loss = 0.08046489208936691\n",
      "epoch 1400:  loss = 0.08028436452150345\n",
      "epoch 1500:  loss = 0.08011975884437561\n",
      "epoch 1600:  loss = 0.07995450496673584\n",
      "epoch 1700:  loss = 0.07977549731731415\n",
      "epoch 1800:  loss = 0.07957106083631516\n",
      "epoch 1900:  loss = 0.07933136075735092\n",
      "epoch 2000:  loss = 0.07905234396457672\n",
      "epoch 2100:  loss = 0.07874348759651184\n",
      "epoch 2200:  loss = 0.07843346148729324\n",
      "epoch 2300:  loss = 0.07815975695848465\n",
      "epoch 2400:  loss = 0.07794363796710968\n",
      "epoch 2500:  loss = 0.07778063416481018\n",
      "epoch 2600:  loss = 0.07765454798936844\n",
      "epoch 2700:  loss = 0.07755116373300552\n",
      "epoch 2800:  loss = 0.07746170461177826\n",
      "epoch 2900:  loss = 0.07738129049539566\n"
     ]
    }
   ],
   "source": [
    "for epoch in range(3000):\n",
    "    outs = ae(inputs)\n",
    "    loss = torch.functional.F.mse_loss(inputs, outs, reduction='mean')\n",
    "\n",
    "    solver.zero_grad()\n",
    "    loss.backward()\n",
    "    solver.step()\n",
    "    if epoch % 100 == 0:\n",
    "        print(\"epoch {}:  loss = {}\".format(epoch, loss.item()))"
   ]
  },
  {
   "cell_type": "code",
   "execution_count": 11,
   "metadata": {},
   "outputs": [
    {
     "data": {
      "image/png": "[encoded data removed]",
      "text/plain": [
       "<Figure size 432x288 with 1 Axes>"
      ]
     },
     "metadata": {},
     "output_type": "display_data"
    }
   ],
   "source": [
    "imshow(inputs)"
   ]
  },
  {
   "cell_type": "code",
   "execution_count": 12,
   "metadata": {},
   "outputs": [
    {
     "data": {
      "image/png": "[encoded data removed]",
      "text/plain": [
       "<Figure size 432x288 with 1 Axes>"
      ]
     },
     "metadata": {},
     "output_type": "display_data"
    }
   ],
   "source": [
    "imshow(outs)"
   ]
  },
  {
   "cell_type": "code",
   "execution_count": 13,
   "metadata": {},
   "outputs": [
    {
     "name": "stdout",
     "output_type": "stream",
     "text": [
      "('encoder.0.weight', Parameter containing:\n",
      "tensor([[[[ 0.0866,  0.1120,  0.1031],\n",
      "          [-0.7567, -0.5469, -0.0272],\n",
      "          [-0.1911, -0.3273, -0.2673]]]], requires_grad=True))\n",
      "('encoder.0.bias', Parameter containing:\n",
      "tensor([-0.0856], requires_grad=True))\n",
      "('encoder.1.weight', Parameter containing:\n",
      "tensor([[[[ 0.0920, -0.2112,  0.0625],\n",
      "          [-0.1550, -0.6208,  0.1231],\n",
      "          [ 0.2572,  0.5251, -0.2050]]]], requires_grad=True))\n",
      "('encoder.1.bias', Parameter containing:\n",
      "tensor([-0.1424], requires_grad=True))\n",
      "('decoder.0.weight', Parameter containing:\n",
      "tensor([[[[-0.2732,  0.1052, -0.1390],\n",
      "          [ 0.0744,  0.8305, -0.1481],\n",
      "          [-0.4202, -0.7623,  0.2439]]]], requires_grad=True))\n",
      "('decoder.0.bias', Parameter containing:\n",
      "tensor([0.1063], requires_grad=True))\n",
      "('decoder.1.weight', Parameter containing:\n",
      "tensor([[[[ 0.0072, -0.0612, -0.0408],\n",
      "          [ 0.5898,  0.3970, -0.0460],\n",
      "          [ 0.1647,  0.2189,  0.1923]]]], requires_grad=True))\n",
      "('decoder.1.bias', Parameter containing:\n",
      "tensor([0.4520], requires_grad=True))\n"
     ]
    }
   ],
   "source": [
    "for p in ae.named_parameters():\n",
    "    print(p)"
   ]
  },
  {
   "cell_type": "code",
   "execution_count": null,
   "metadata": {},
   "outputs": [],
   "source": []
  }
 ],
 "metadata": {
  "kernelspec": {
   "display_name": "Python 3",
   "language": "python",
   "name": "python3"
  },
  "language_info": {
   "codemirror_mode": {
    "name": "ipython",
    "version": 3
   },
   "file_extension": ".py",
   "mimetype": "text/x-python",
   "name": "python",
   "nbconvert_exporter": "python",
   "pygments_lexer": "ipython3",
   "version": "3.7.1"
  }
 },
 "nbformat": 4,
 "nbformat_minor": 2
}
