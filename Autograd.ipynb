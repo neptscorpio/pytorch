{
 "cells": [
  {
   "cell_type": "code",
   "execution_count": 1,
   "metadata": {},
   "outputs": [],
   "source": [
    "from __future__ import print_function\n",
    "import torch"
   ]
  },
  {
   "cell_type": "code",
   "execution_count": 2,
   "metadata": {},
   "outputs": [],
   "source": [
    "def show(t):  # tensor\n",
    "    print(\"value: \", t)\n",
    "    print(\"requires_grad: \", t.requires_grad)\n",
    "    #print(\"grad_fn: \", t.grad_fn)\n",
    "    print(\"grad: \", t.grad)\n",
    "    #print(\"retain_grad: \", t.retain_grad() if t.requires_grad else \"N/A\") \n",
    "    print(\"is_leaf:\", t.is_leaf)\n",
    "    print()"
   ]
  },
  {
   "cell_type": "markdown",
   "metadata": {},
   "source": [
    "# Requires Grad"
   ]
  },
  {
   "cell_type": "code",
   "execution_count": 3,
   "metadata": {},
   "outputs": [
    {
     "name": "stdout",
     "output_type": "stream",
     "text": [
      "value:  tensor([[-2.0190, -1.2660],\n",
      "        [-1.7936,  0.5594]])\n",
      "requires_grad:  False\n",
      "grad:  None\n",
      "is_leaf: True\n",
      "\n"
     ]
    }
   ],
   "source": [
    "w = torch.randn(2, 2)  # by default is requires_grad=False\n",
    "show(w)"
   ]
  },
  {
   "cell_type": "code",
   "execution_count": 4,
   "metadata": {},
   "outputs": [
    {
     "name": "stdout",
     "output_type": "stream",
     "text": [
      "value:  tensor([[1., 1.],\n",
      "        [1., 1.]], requires_grad=True)\n",
      "requires_grad:  True\n",
      "grad:  None\n",
      "is_leaf: True\n",
      "\n"
     ]
    }
   ],
   "source": [
    "v = torch.ones(2, 2, requires_grad=True)\n",
    "show(v)"
   ]
  },
  {
   "cell_type": "code",
   "execution_count": 5,
   "metadata": {},
   "outputs": [
    {
     "name": "stdout",
     "output_type": "stream",
     "text": [
      "value:  tensor([[-1.0190, -0.2660],\n",
      "        [-0.7936,  1.5594]], grad_fn=<AddBackward0>)\n",
      "requires_grad:  True\n",
      "grad:  None\n",
      "is_leaf: False\n",
      "\n"
     ]
    },
    {
     "name": "stderr",
     "output_type": "stream",
     "text": [
      "/Users/suxue/anaconda3/lib/python3.7/site-packages/torch/tensor.py:746: UserWarning: The .grad attribute of a Tensor that is not a leaf Tensor is being accessed. Its .grad attribute won't be populated during autograd.backward(). If you indeed want the gradient for a non-leaf Tensor, use .retain_grad() on the non-leaf Tensor. If you access the non-leaf Tensor by mistake, make sure you access the leaf Tensor instead. See github.com/pytorch/pytorch/pull/30531 for more informations.\n",
      "  warnings.warn(\"The .grad attribute of a Tensor that is not a leaf Tensor is being accessed. Its .grad \"\n"
     ]
    }
   ],
   "source": [
    "u = w + v\n",
    "show(u)"
   ]
  },
  {
   "cell_type": "code",
   "execution_count": 6,
   "metadata": {},
   "outputs": [
    {
     "name": "stdout",
     "output_type": "stream",
     "text": [
      "value:  tensor(-0.1298, grad_fn=<MeanBackward0>)\n",
      "requires_grad:  True\n",
      "grad:  None\n",
      "is_leaf: False\n",
      "\n"
     ]
    }
   ],
   "source": [
    "out = u.mean().mean()\n",
    "show(out)"
   ]
  },
  {
   "cell_type": "code",
   "execution_count": 7,
   "metadata": {},
   "outputs": [],
   "source": [
    "out.backward(retain_graph=True)  # out = norm(w + v)"
   ]
  },
  {
   "cell_type": "code",
   "execution_count": 8,
   "metadata": {},
   "outputs": [
    {
     "name": "stdout",
     "output_type": "stream",
     "text": [
      "value:  tensor(-0.1298, grad_fn=<MeanBackward0>)\n",
      "requires_grad:  True\n",
      "grad:  None\n",
      "is_leaf: False\n",
      "\n"
     ]
    }
   ],
   "source": [
    "show(out)"
   ]
  },
  {
   "cell_type": "code",
   "execution_count": 9,
   "metadata": {},
   "outputs": [
    {
     "name": "stdout",
     "output_type": "stream",
     "text": [
      "value:  tensor([[-1.0190, -0.2660],\n",
      "        [-0.7936,  1.5594]], grad_fn=<AddBackward0>)\n",
      "requires_grad:  True\n",
      "grad:  None\n",
      "is_leaf: False\n",
      "\n"
     ]
    }
   ],
   "source": [
    "show(u)"
   ]
  },
  {
   "cell_type": "code",
   "execution_count": 10,
   "metadata": {},
   "outputs": [
    {
     "name": "stdout",
     "output_type": "stream",
     "text": [
      "value:  tensor([[-2.0190, -1.2660],\n",
      "        [-1.7936,  0.5594]])\n",
      "requires_grad:  False\n",
      "grad:  None\n",
      "is_leaf: True\n",
      "\n"
     ]
    }
   ],
   "source": [
    "show(w)"
   ]
  },
  {
   "cell_type": "code",
   "execution_count": 11,
   "metadata": {},
   "outputs": [
    {
     "name": "stdout",
     "output_type": "stream",
     "text": [
      "value:  tensor([[1., 1.],\n",
      "        [1., 1.]], requires_grad=True)\n",
      "requires_grad:  True\n",
      "grad:  tensor([[0.2500, 0.2500],\n",
      "        [0.2500, 0.2500]])\n",
      "is_leaf: True\n",
      "\n"
     ]
    }
   ],
   "source": [
    "show(v)"
   ]
  },
  {
   "cell_type": "markdown",
   "metadata": {},
   "source": [
    "# zero grad"
   ]
  },
  {
   "cell_type": "code",
   "execution_count": 12,
   "metadata": {},
   "outputs": [
    {
     "name": "stdout",
     "output_type": "stream",
     "text": [
      "value:  tensor(-0.1298, grad_fn=<MeanBackward0>)\n",
      "requires_grad:  True\n",
      "grad:  None\n",
      "is_leaf: False\n",
      "\n",
      "value:  tensor([[1., 1.],\n",
      "        [1., 1.]], requires_grad=True)\n",
      "requires_grad:  True\n",
      "grad:  tensor([[0.5000, 0.5000],\n",
      "        [0.5000, 0.5000]])\n",
      "is_leaf: True\n",
      "\n"
     ]
    }
   ],
   "source": [
    "# if not zero grads\n",
    "out.backward(retain_graph=True)\n",
    "show(out)\n",
    "show(v)"
   ]
  },
  {
   "cell_type": "code",
   "execution_count": 13,
   "metadata": {},
   "outputs": [
    {
     "name": "stdout",
     "output_type": "stream",
     "text": [
      "value:  tensor(-0.1298, grad_fn=<MeanBackward0>)\n",
      "requires_grad:  True\n",
      "grad:  None\n",
      "is_leaf: False\n",
      "\n",
      "value:  tensor([[1., 1.],\n",
      "        [1., 1.]], requires_grad=True)\n",
      "requires_grad:  True\n",
      "grad:  tensor([[0.2500, 0.2500],\n",
      "        [0.2500, 0.2500]])\n",
      "is_leaf: True\n",
      "\n"
     ]
    }
   ],
   "source": [
    "# if zero grads\n",
    "#out.grad.zero_()\n",
    "v.grad.zero_()\n",
    "\n",
    "out.backward(retain_graph=True)\n",
    "show(out)\n",
    "show(v)"
   ]
  },
  {
   "cell_type": "markdown",
   "metadata": {},
   "source": [
    "# detach"
   ]
  },
  {
   "cell_type": "code",
   "execution_count": 15,
   "metadata": {},
   "outputs": [
    {
     "name": "stdout",
     "output_type": "stream",
     "text": [
      "value:  tensor(-0.1298, grad_fn=<MeanBackward0>)\n",
      "requires_grad:  True\n",
      "grad:  None\n",
      "is_leaf: False\n",
      "\n",
      "value:  tensor(-0.1298)\n",
      "requires_grad:  False\n",
      "grad:  None\n",
      "is_leaf: True\n",
      "\n",
      "value:  tensor([[1., 1.],\n",
      "        [1., 1.]], requires_grad=True)\n",
      "requires_grad:  True\n",
      "grad:  tensor([[0.2500, 0.2500],\n",
      "        [0.2500, 0.2500]])\n",
      "is_leaf: True\n",
      "\n"
     ]
    }
   ],
   "source": [
    "c = out.detach()\n",
    "show(out)\n",
    "show(c)\n",
    "show(v)"
   ]
  },
  {
   "cell_type": "code",
   "execution_count": 16,
   "metadata": {},
   "outputs": [
    {
     "name": "stdout",
     "output_type": "stream",
     "text": [
      "value:  tensor(0., grad_fn=<ZeroBackward>)\n",
      "requires_grad:  True\n",
      "grad:  None\n",
      "is_leaf: False\n",
      "\n",
      "value:  tensor(0.)\n",
      "requires_grad:  False\n",
      "grad:  None\n",
      "is_leaf: True\n",
      "\n",
      "value:  tensor([[1., 1.],\n",
      "        [1., 1.]], requires_grad=True)\n",
      "requires_grad:  True\n",
      "grad:  tensor([[0.2500, 0.2500],\n",
      "        [0.2500, 0.2500]])\n",
      "is_leaf: True\n",
      "\n"
     ]
    }
   ],
   "source": [
    "out.zero_()\n",
    "out.backward(retain_graph=True)\n",
    "show(out)\n",
    "show(c)\n",
    "show(v)"
   ]
  },
  {
   "cell_type": "code",
   "execution_count": 18,
   "metadata": {},
   "outputs": [
    {
     "name": "stdout",
     "output_type": "stream",
     "text": [
      "value:  tensor(-0.1298, grad_fn=<MeanBackward0>)\n",
      "requires_grad:  True\n",
      "grad:  None\n",
      "is_leaf: False\n",
      "\n",
      "value:  tensor(-0.1298)\n",
      "requires_grad:  False\n",
      "grad:  None\n",
      "is_leaf: True\n",
      "\n",
      "value:  tensor([[1., 1.],\n",
      "        [1., 1.]], requires_grad=True)\n",
      "requires_grad:  True\n",
      "grad:  tensor([[0.7500, 0.7500],\n",
      "        [0.7500, 0.7500]])\n",
      "is_leaf: True\n",
      "\n"
     ]
    }
   ],
   "source": [
    "out = u.mean().mean()\n",
    "c = out.detach()\n",
    "out.backward(retain_graph=True)\n",
    "show(out)\n",
    "show(c)\n",
    "show(v)"
   ]
  },
  {
   "cell_type": "code",
   "execution_count": 27,
   "metadata": {},
   "outputs": [],
   "source": [
    "# c.zero_()\n",
    "# show(c)\n",
    "# show(out)\n",
    "out.backward()"
   ]
  },
  {
   "cell_type": "code",
   "execution_count": 28,
   "metadata": {},
   "outputs": [
    {
     "name": "stdout",
     "output_type": "stream",
     "text": [
      "value:  tensor([[1., 1.],\n",
      "        [1., 1.]], requires_grad=True)\n",
      "requires_grad:  True\n",
      "grad:  tensor([[1.5000, 1.5000],\n",
      "        [1.5000, 1.5000]])\n",
      "is_leaf: True\n",
      "\n"
     ]
    }
   ],
   "source": [
    "show(v)"
   ]
  },
  {
   "cell_type": "code",
   "execution_count": null,
   "metadata": {},
   "outputs": [],
   "source": []
  }
 ],
 "metadata": {
  "kernelspec": {
   "display_name": "Python 3",
   "language": "python",
   "name": "python3"
  },
  "language_info": {
   "codemirror_mode": {
    "name": "ipython",
    "version": 3
   },
   "file_extension": ".py",
   "mimetype": "text/x-python",
   "name": "python",
   "nbconvert_exporter": "python",
   "pygments_lexer": "ipython3",
   "version": "3.7.1"
  }
 },
 "nbformat": 4,
 "nbformat_minor": 2
}
