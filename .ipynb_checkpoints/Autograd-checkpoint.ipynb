{
 "cells": [
  {
   "cell_type": "code",
   "execution_count": 49,
   "metadata": {},
   "outputs": [],
   "source": [
    "from __future__ import print_function\n",
    "import torch"
   ]
  },
  {
   "cell_type": "code",
   "execution_count": 50,
   "metadata": {},
   "outputs": [],
   "source": [
    "def show(t):  # tensor\n",
    "    print(\"value: \", t)\n",
    "    print(\"requires_grad: \", t.requires_grad)\n",
    "    print(\"grad_fn: \", t.grad_fn)\n",
    "    print(\"grad: \", t.grad)"
   ]
  },
  {
   "cell_type": "code",
   "execution_count": 51,
   "metadata": {},
   "outputs": [
    {
     "name": "stdout",
     "output_type": "stream",
     "text": [
      "value:  tensor([[ 1.,  1.],\n",
      "        [ 1.,  1.]])\n",
      "requires_grad:  True\n",
      "grad_fn:  None\n",
      "grad:  None\n"
     ]
    }
   ],
   "source": [
    "x = torch.ones(2, 2, requires_grad=True)  # by default is requires_grad=False\n",
    "show(x)"
   ]
  },
  {
   "cell_type": "code",
   "execution_count": 52,
   "metadata": {},
   "outputs": [
    {
     "name": "stdout",
     "output_type": "stream",
     "text": [
      "value:  tensor([[ 3.,  3.],\n",
      "        [ 3.,  3.]])\n",
      "requires_grad:  True\n",
      "grad_fn:  <AddBackward0 object at 0x1150ee160>\n",
      "grad:  None\n"
     ]
    }
   ],
   "source": [
    "y = x + 2\n",
    "show(y)"
   ]
  },
  {
   "cell_type": "code",
   "execution_count": 53,
   "metadata": {},
   "outputs": [],
   "source": [
    "z = y * y * 3"
   ]
  },
  {
   "cell_type": "code",
   "execution_count": 54,
   "metadata": {},
   "outputs": [
    {
     "name": "stdout",
     "output_type": "stream",
     "text": [
      "value:  tensor(27.)\n",
      "requires_grad:  True\n",
      "grad_fn:  <MeanBackward1 object at 0x1150eeba8>\n",
      "grad:  None\n"
     ]
    }
   ],
   "source": [
    "out = z.mean()\n",
    "show(out)"
   ]
  },
  {
   "cell_type": "code",
   "execution_count": 55,
   "metadata": {},
   "outputs": [],
   "source": [
    "out.backward()"
   ]
  },
  {
   "cell_type": "code",
   "execution_count": 56,
   "metadata": {},
   "outputs": [
    {
     "name": "stdout",
     "output_type": "stream",
     "text": [
      "value:  tensor(27.)\n",
      "requires_grad:  True\n",
      "grad_fn:  <MeanBackward1 object at 0x1150ee4a8>\n",
      "grad:  None\n"
     ]
    }
   ],
   "source": [
    "show(out)"
   ]
  },
  {
   "cell_type": "code",
   "execution_count": 57,
   "metadata": {},
   "outputs": [
    {
     "name": "stdout",
     "output_type": "stream",
     "text": [
      "value:  tensor([[ 27.,  27.],\n",
      "        [ 27.,  27.]])\n",
      "requires_grad:  True\n",
      "grad_fn:  <MulBackward0 object at 0x1150ee390>\n",
      "grad:  None\n"
     ]
    }
   ],
   "source": [
    "show(z)"
   ]
  },
  {
   "cell_type": "code",
   "execution_count": 59,
   "metadata": {},
   "outputs": [
    {
     "name": "stdout",
     "output_type": "stream",
     "text": [
      "value:  tensor([[ 3.,  3.],\n",
      "        [ 3.,  3.]])\n",
      "requires_grad:  True\n",
      "grad_fn:  <AddBackward0 object at 0x1150a5e48>\n",
      "grad:  None\n"
     ]
    }
   ],
   "source": [
    "show(y)"
   ]
  },
  {
   "cell_type": "code",
   "execution_count": 60,
   "metadata": {},
   "outputs": [
    {
     "name": "stdout",
     "output_type": "stream",
     "text": [
      "value:  tensor([[ 1.,  1.],\n",
      "        [ 1.,  1.]])\n",
      "requires_grad:  True\n",
      "grad_fn:  None\n",
      "grad:  tensor([[ 4.5000,  4.5000],\n",
      "        [ 4.5000,  4.5000]])\n"
     ]
    }
   ],
   "source": [
    "show(x) # only leaf tensor (i.e. grad_fn = None) has grad"
   ]
  },
  {
   "cell_type": "code",
   "execution_count": null,
   "metadata": {},
   "outputs": [],
   "source": []
  }
 ],
 "metadata": {
  "kernelspec": {
   "display_name": "Python 3",
   "language": "python",
   "name": "python3"
  },
  "language_info": {
   "codemirror_mode": {
    "name": "ipython",
    "version": 3
   },
   "file_extension": ".py",
   "mimetype": "text/x-python",
   "name": "python",
   "nbconvert_exporter": "python",
   "pygments_lexer": "ipython3",
   "version": "3.6.4"
  }
 },
 "nbformat": 4,
 "nbformat_minor": 2
}
